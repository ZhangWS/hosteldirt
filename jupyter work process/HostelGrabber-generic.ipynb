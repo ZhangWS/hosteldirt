{
 "cells": [
  {
   "cell_type": "code",
   "execution_count": 3,
   "metadata": {},
   "outputs": [],
   "source": [
    "import requests\n",
    "from lxml import html\n",
    "from bs4 import BeautifulSoup\n",
    "import csv\n",
    "import time"
   ]
  },
  {
   "cell_type": "code",
   "execution_count": 8,
   "metadata": {},
   "outputs": [],
   "source": [
    "#this can eventually be customized to be a data frame with \n",
    "#as many cities and base URLs as we want\n",
    "#citylist = ['Toronto','Paris','London']\n",
    "citylist = ['Berlin', 'Beijing', 'Tokyo', 'Seoul', 'Cairo', 'New-Delhi']\n",
    "\n",
    "now = time.strftime(\"%Y%m%d-%H%M%S\")\n",
    "csvname = 'hostelinks'+now+'.csv'"
   ]
  },
  {
   "cell_type": "code",
   "execution_count": 9,
   "metadata": {
    "scrolled": true
   },
   "outputs": [],
   "source": [
    "with open(csvname, 'w', newline='', encoding=\"UTF-8\") as f:\n",
    "    writer = csv.writer(f)\n",
    "    writer.writerow(['name', 'hostelid','city','url'])\n",
    "    \n",
    "    for cityname in citylist:\n",
    "        url= 'http://www.hostelworld.com/hostels/'+cityname+'?ShowAll=1'\n",
    "        response = requests.get(url)\n",
    "        city_soup = BeautifulSoup(response.text, 'html.parser')\n",
    "        city_hotels_names = city_soup.find_all(class_=\"hwta-property\")\n",
    "    \n",
    "        #shove everything into a SQL database\n",
    "        for city_hotels_names_list in city_hotels_names:\n",
    "            cname = city_hotels_names_list.get('data-name')\n",
    "            cid = city_hotels_names_list.get('data-id')\n",
    "            clink = city_hotels_names_list.get('url')\n",
    "            writer.writerow([cname, cid, cityname, clink])"
   ]
  },
  {
   "cell_type": "code",
   "execution_count": 10,
   "metadata": {},
   "outputs": [],
   "source": [
    "del writer"
   ]
  },
  {
   "cell_type": "code",
   "execution_count": null,
   "metadata": {},
   "outputs": [],
   "source": []
  }
 ],
 "metadata": {
  "kernelspec": {
   "display_name": "Python 3",
   "language": "python",
   "name": "python3"
  },
  "language_info": {
   "codemirror_mode": {
    "name": "ipython",
    "version": 3
   },
   "file_extension": ".py",
   "mimetype": "text/x-python",
   "name": "python",
   "nbconvert_exporter": "python",
   "pygments_lexer": "ipython3",
   "version": "3.7.0"
  }
 },
 "nbformat": 4,
 "nbformat_minor": 2
}
